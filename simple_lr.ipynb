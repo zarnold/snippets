{
 "cells": [
  {
   "cell_type": "markdown",
   "metadata": {},
   "source": [
    "# Linear regression in python\n",
    "This code show an implementation of the most simple *Machine Learning* algorithm : the linear regression.\n",
    "While very easy, it introduces the basic concept of machine learning :\n",
    "- loss \n",
    "- cost\n",
    "- gradient descent\n",
    "- learning Rate"
   ]
  },
  {
   "cell_type": "markdown",
   "metadata": {},
   "source": [
    "## Building fake data\n",
    "In order to explore, let's build fake datas."
   ]
  },
  {
   "cell_type": "code",
   "execution_count": 35,
   "metadata": {
    "collapsed": false
   },
   "outputs": [],
   "source": [
    "n_sample = 200\n",
    "n_dim = 5\n",
    "\n",
    "## Our sample\n",
    "## some points with n_dim parameters\n",
    "X = np.random.random((n_sample,n_dim))\n",
    "\n",
    "## Our algo must guess this \n",
    "theta = np.random.randint(-10,10,n_dim)\n",
    "\n",
    "## So given this \n",
    "Y = np.dot(X,theta)\n",
    "### add some noise so the problem is not too obvious\n",
    "noise =  np.random.rand(n_sample) / 10\n",
    "Y = Y+noise\n",
    "\n",
    "## thus so we all get the same result\n",
    "np.random.seed(42)\n"
   ]
  },
  {
   "cell_type": "markdown",
   "metadata": {},
   "source": [
    "## Learn, step by step\n",
    "Now, the *machine*, aka our code, will try to learn the Y we built above.\n",
    "To do this, it won't use formulas but will try to find the hidden number, our theta, with the data it has : \n",
    "- input values (X)\n",
    "- observations (Y)\n",
    "To do that, it will perform some guess, compute the error and change its internal model (**th**)\n",
    "This is done with a gradient descent method."
   ]
  },
  {
   "cell_type": "markdown",
   "metadata": {},
   "source": [
    "There are 2 parameter to our algo :\n",
    "- expected_cost, aka, which value of error, as data scientist, we do tolerate\n",
    "- learning_rate. It's the importance of how *strong* the machine must correct its errors. Two small and it's very slow, too high and it diverges.\n",
    "\n",
    "Here, the example is quite simple but in complex issue, finding a good learning rate can be tricky."
   ]
  },
  {
   "cell_type": "markdown",
   "metadata": {},
   "source": [
    "### Good learning rate\n",
    "let's start with a fine learning rate\n"
   ]
  },
  {
   "cell_type": "code",
   "execution_count": 21,
   "metadata": {
    "collapsed": true
   },
   "outputs": [],
   "source": [
    "\n",
    "##################### Now, run the regression\n",
    "expected_cost = 1e-2\n",
    "learning_rate = 1e-1\n",
    "\n",
    "cost = 10000\n",
    "## For graphing later\n",
    "l=[]\n",
    "t=0\n",
    "## inital guess : random\n",
    "th = np.ones(n_dim)\n",
    "while cost > expected_cost and not np.isinf(cost) : \n",
    "   t+=1\n",
    "   ## Make a proposition\n",
    "   y_pred = np.dot(X,th)\n",
    "   ## loss is how far we missed\n",
    "   loss  = y_pred - Y \n",
    "   ## Cost, here, is mean squared error\n",
    "   ## important note : cost is a human choosen formula\n",
    "   ## it s jsut a way of evaluating the quality\n",
    "   ## of our model\n",
    "   ## Choosing the cost is the work of data scientist\n",
    "   cost = np.sum(loss ** 2) / len(Y)\n",
    "   l.append(cost)\n",
    "   ## Correct the error with gradient descent\n",
    "   th = th - learning_rate * np.dot(X.T,loss) / len(Y)\n",
    "\n",
    "\n",
    "\n",
    "\n",
    "\n"
   ]
  },
  {
   "cell_type": "code",
   "execution_count": 22,
   "metadata": {
    "collapsed": false
   },
   "outputs": [
    {
     "name": "stdout",
     "output_type": "stream",
     "text": [
      " our algo found :\n",
      "[-8.83225323 -0.94076221  4.72467628 -9.01985964 -3.84937204]\n",
      "and it should have found :\n",
      "[-9 -1  5 -9 -4]\n",
      "it found it in 421 steps\n"
     ]
    },
    {
     "data": {
      "image/png": "[encoded data removed]",
      "text/plain": [
       "<matplotlib.figure.Figure at 0x7f5155f197d0>"
      ]
     },
     "metadata": {},
     "output_type": "display_data"
    }
   ],
   "source": [
    "print ' our algo found :'\n",
    "print th\n",
    "print 'and it should have found :'\n",
    "print theta\n",
    "print 'it found it in %d steps' % t\n",
    "\n",
    "%matplotlib inline\n",
    "\n",
    "import matplotlib\n",
    "import numpy as np\n",
    "import matplotlib.pyplot as plt\n",
    "plt.plot(l)\n",
    "plt.show()"
   ]
  },
  {
   "cell_type": "markdown",
   "metadata": {},
   "source": [
    "Now let's try with a small learning rate"
   ]
  },
  {
   "cell_type": "code",
   "execution_count": 25,
   "metadata": {
    "collapsed": true
   },
   "outputs": [],
   "source": [
    "##################### Now, run the regression\n",
    "expected_cost = 1e-2\n",
    "learning_rate = 1e-3\n",
    "\n",
    "cost = 10000\n",
    "## For graphing later\n",
    "l2=[]\n",
    "t=0\n",
    "## inital guess : random\n",
    "th = np.ones(n_dim)\n",
    "while cost > expected_cost and not np.isinf(cost) : \n",
    "   t+=1\n",
    "   ## Make a proposition\n",
    "   y_pred = np.dot(X,th)\n",
    "   ## loss is how far we missed\n",
    "   loss  = y_pred - Y \n",
    "   ## Cost, here, is mean squared error\n",
    "   ## important note : cost is a human choosen formula\n",
    "   ## it s jsut a way of evaluating the quality\n",
    "   ## of our model\n",
    "   ## Choosing the cost is the work of data scientist\n",
    "   cost = np.sum(loss ** 2) / len(Y)\n",
    "   l2.append(cost)\n",
    "   ## Correct the error with gradient descent\n",
    "   th = th - learning_rate * np.dot(X.T,loss) / len(Y)\n"
   ]
  },
  {
   "cell_type": "code",
   "execution_count": 26,
   "metadata": {
    "collapsed": false
   },
   "outputs": [
    {
     "name": "stdout",
     "output_type": "stream",
     "text": [
      " our algo found :\n",
      "[-8.83047716 -0.94114791  4.72091254 -9.01859915 -3.84839829]\n",
      "and it should have found :\n",
      "[-9 -1  5 -9 -4]\n",
      "it found it in 42089 steps\n"
     ]
    },
    {
     "data": {
      "image/png": "[encoded data removed]",
      "text/plain": [
       "<matplotlib.figure.Figure at 0x7f5155e44110>"
      ]
     },
     "metadata": {},
     "output_type": "display_data"
    }
   ],
   "source": [
    "print ' our algo found :'\n",
    "print th\n",
    "print 'and it should have found :'\n",
    "print theta\n",
    "print 'it found it in %d steps' % t\n",
    "\n",
    "plt.plot(l)\n",
    "plt.plot(l2)\n",
    "plt.show()"
   ]
  },
  {
   "cell_type": "markdown",
   "metadata": {},
   "source": [
    "So.\n",
    "As you (should) see on the graph below, the algo found a fine solution too but spend way more time to do it.\n",
    "( about 100x more steps)\n",
    "Maybe we should use a big learning rate ?\n"
   ]
  },
  {
   "cell_type": "code",
   "execution_count": 30,
   "metadata": {
    "collapsed": false
   },
   "outputs": [
    {
     "name": "stderr",
     "output_type": "stream",
     "text": [
      "/home/arnold/anaconda2/lib/python2.7/site-packages/ipykernel/__main__.py:22: RuntimeWarning: overflow encountered in square\n"
     ]
    }
   ],
   "source": [
    "##################### Now, run the regression\n",
    "expected_cost = 1e-2\n",
    "learning_rate = 10\n",
    "\n",
    "cost = 10000\n",
    "## For graphing later\n",
    "l3=[]\n",
    "t=0\n",
    "## inital guess : random\n",
    "th = np.ones(n_dim)\n",
    "while cost > expected_cost and not np.isinf(cost) : \n",
    "   t+=1\n",
    "   ## Make a proposition\n",
    "   y_pred = np.dot(X,th)\n",
    "   ## loss is how far we missed\n",
    "   loss  = y_pred - Y \n",
    "   ## Cost, here, is mean squared error\n",
    "   ## important note : cost is a human choosen formula\n",
    "   ## it s jsut a way of evaluating the quality\n",
    "   ## of our model\n",
    "   ## Choosing the cost is the work of data scientist\n",
    "   cost = np.sum(loss ** 2) / len(Y)\n",
    "   l3.append(cost)\n",
    "   ## Correct the error with gradient descent\n",
    "   th = th - learning_rate * np.dot(X.T,loss) / len(Y)\n",
    "   "
   ]
  },
  {
   "cell_type": "markdown",
   "metadata": {},
   "source": [
    "Here, with a too high learning rate, the algo does not succeed to converge. \n",
    "It falls on a cliff and diverges while looking for a solution\n",
    "\n",
    "\n"
   ]
  },
  {
   "cell_type": "code",
   "execution_count": 31,
   "metadata": {
    "collapsed": false
   },
   "outputs": [
    {
     "data": {
      "text/plain": [
       "[<matplotlib.lines.Line2D at 0x7f5155ddf950>]"
      ]
     },
     "execution_count": 31,
     "metadata": {},
     "output_type": "execute_result"
    },
    {
     "data": {
      "image/png": "[encoded data removed]",
      "text/plain": [
       "<matplotlib.figure.Figure at 0x7f51561cb850>"
      ]
     },
     "metadata": {},
     "output_type": "display_data"
    }
   ],
   "source": [
    "plt.plot(l3)"
   ]
  },
  {
   "cell_type": "markdown",
   "metadata": {},
   "source": [
    "note that it is note a matter of \"greater than 1 \" or \"lesser than 1\". You can try with learning rate around 1.2."
   ]
  },
  {
   "cell_type": "code",
   "execution_count": 42,
   "metadata": {
    "collapsed": true
   },
   "outputs": [],
   "source": [
    "expected_cost = 1e-2\n",
    "learning_rate = 1.2\n",
    "\n",
    "cost = 10000\n",
    "## For graphing later\n",
    "l3=[]\n",
    "t=0\n",
    "## inital guess : random\n",
    "th = np.ones(n_dim)\n",
    "while cost > expected_cost and not np.isinf(cost) : \n",
    "   t+=1\n",
    "   ## Make a proposition\n",
    "   y_pred = np.dot(X,th)\n",
    "   ## loss is how far we missed\n",
    "   loss  = y_pred - Y \n",
    "   ## Cost, here, is mean squared error\n",
    "   ## important note : cost is a human choosen formula\n",
    "   ## it s jsut a way of evaluating the quality\n",
    "   ## of our model\n",
    "   ## Choosing the cost is the work of data scientist\n",
    "   cost = np.sum(loss ** 2) / len(Y)\n",
    "   l3.append(cost)\n",
    "   ## Correct the error with gradient descent\n",
    "   th = th - learning_rate * np.dot(X.T,loss) / len(Y)"
   ]
  },
  {
   "cell_type": "code",
   "execution_count": 34,
   "metadata": {
    "collapsed": false
   },
   "outputs": [
    {
     "data": {
      "text/plain": [
       "[<matplotlib.lines.Line2D at 0x7f5155408650>]"
      ]
     },
     "execution_count": 34,
     "metadata": {},
     "output_type": "execute_result"
    },
    {
     "data": {
      "image/png": "[encoded data removed]",
      "text/plain": [
       "<matplotlib.figure.Figure at 0x7f5155125f50>"
      ]
     },
     "metadata": {},
     "output_type": "display_data"
    }
   ],
   "source": [
    "plt.plot(l3)"
   ]
  },
  {
   "cell_type": "markdown",
   "metadata": {},
   "source": [
    "Sometimes it diverge, sometime not. Setting the learnign rate is the work of Data Scientist"
   ]
  },
  {
   "cell_type": "code",
   "execution_count": null,
   "metadata": {
    "collapsed": true
   },
   "outputs": [],
   "source": []
  }
 ],
 "metadata": {
  "kernelspec": {
   "display_name": "Python 2",
   "language": "python",
   "name": "python2"
  },
  "language_info": {
   "codemirror_mode": {
    "name": "ipython",
    "version": 2
   },
   "file_extension": ".py",
   "mimetype": "text/x-python",
   "name": "python",
   "nbconvert_exporter": "python",
   "pygments_lexer": "ipython2",
   "version": "2.7.11"
  }
 },
 "nbformat": 4,
 "nbformat_minor": 0
}
